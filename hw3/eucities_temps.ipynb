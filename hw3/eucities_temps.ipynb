{
 "cells": [
  {
   "cell_type": "markdown",
   "metadata": {},
   "source": [
    "# Problem 1: EU Cities Temperatures Dataset (55 points)"
   ]
  },
  {
   "cell_type": "markdown",
   "metadata": {},
   "source": [
    "# Preprocessing/Analysis (28 pts)"
   ]
  },
  {
   "cell_type": "code",
   "execution_count": 44,
   "metadata": {},
   "outputs": [],
   "source": [
    "import numpy as np\n",
    "import pandas as pd\n",
    "from pandas import Series\n",
    "from pandas import DataFrame\n",
    "from matplotlib import pyplot as plt"
   ]
  },
  {
   "cell_type": "markdown",
   "metadata": {},
   "source": [
    "### Load the file into a Pandas DataFrame"
   ]
  },
  {
   "cell_type": "code",
   "execution_count": 45,
   "metadata": {},
   "outputs": [
    {
     "data": {
      "text/html": [
       "<div>\n",
       "<style scoped>\n",
       "    .dataframe tbody tr th:only-of-type {\n",
       "        vertical-align: middle;\n",
       "    }\n",
       "\n",
       "    .dataframe tbody tr th {\n",
       "        vertical-align: top;\n",
       "    }\n",
       "\n",
       "    .dataframe thead th {\n",
       "        text-align: right;\n",
       "    }\n",
       "</style>\n",
       "<table border=\"1\" class=\"dataframe\">\n",
       "  <thead>\n",
       "    <tr style=\"text-align: right;\">\n",
       "      <th></th>\n",
       "      <th>city</th>\n",
       "      <th>country</th>\n",
       "      <th>population</th>\n",
       "      <th>EU</th>\n",
       "      <th>coastline</th>\n",
       "      <th>latitude</th>\n",
       "      <th>longitude</th>\n",
       "      <th>temperature</th>\n",
       "    </tr>\n",
       "  </thead>\n",
       "  <tbody>\n",
       "    <tr>\n",
       "      <th>0</th>\n",
       "      <td>Elbasan</td>\n",
       "      <td>Albania</td>\n",
       "      <td>2.90</td>\n",
       "      <td>no</td>\n",
       "      <td>yes</td>\n",
       "      <td>41.12</td>\n",
       "      <td>20.08</td>\n",
       "      <td>15.18</td>\n",
       "    </tr>\n",
       "    <tr>\n",
       "      <th>1</th>\n",
       "      <td>Andorra</td>\n",
       "      <td>Andorra</td>\n",
       "      <td>0.07</td>\n",
       "      <td>no</td>\n",
       "      <td>no</td>\n",
       "      <td>42.50</td>\n",
       "      <td>1.52</td>\n",
       "      <td>NaN</td>\n",
       "    </tr>\n",
       "    <tr>\n",
       "      <th>2</th>\n",
       "      <td>Innsbruck</td>\n",
       "      <td>Austria</td>\n",
       "      <td>8.57</td>\n",
       "      <td>yes</td>\n",
       "      <td>no</td>\n",
       "      <td>NaN</td>\n",
       "      <td>11.41</td>\n",
       "      <td>4.54</td>\n",
       "    </tr>\n",
       "    <tr>\n",
       "      <th>3</th>\n",
       "      <td>Graz</td>\n",
       "      <td>Austria</td>\n",
       "      <td>8.57</td>\n",
       "      <td>yes</td>\n",
       "      <td>no</td>\n",
       "      <td>47.08</td>\n",
       "      <td>NaN</td>\n",
       "      <td>6.91</td>\n",
       "    </tr>\n",
       "    <tr>\n",
       "      <th>4</th>\n",
       "      <td>Linz</td>\n",
       "      <td>Austria</td>\n",
       "      <td>8.57</td>\n",
       "      <td>yes</td>\n",
       "      <td>no</td>\n",
       "      <td>48.32</td>\n",
       "      <td>14.29</td>\n",
       "      <td>6.79</td>\n",
       "    </tr>\n",
       "    <tr>\n",
       "      <th>5</th>\n",
       "      <td>Salzburg</td>\n",
       "      <td>Austria</td>\n",
       "      <td>8.57</td>\n",
       "      <td>yes</td>\n",
       "      <td>no</td>\n",
       "      <td>47.81</td>\n",
       "      <td>NaN</td>\n",
       "      <td>4.62</td>\n",
       "    </tr>\n",
       "    <tr>\n",
       "      <th>6</th>\n",
       "      <td>Vienna</td>\n",
       "      <td>Austria</td>\n",
       "      <td>8.57</td>\n",
       "      <td>yes</td>\n",
       "      <td>no</td>\n",
       "      <td>48.20</td>\n",
       "      <td>16.37</td>\n",
       "      <td>7.86</td>\n",
       "    </tr>\n",
       "    <tr>\n",
       "      <th>7</th>\n",
       "      <td>Minsk</td>\n",
       "      <td>Belarus</td>\n",
       "      <td>9.48</td>\n",
       "      <td>no</td>\n",
       "      <td>no</td>\n",
       "      <td>NaN</td>\n",
       "      <td>27.57</td>\n",
       "      <td>5.28</td>\n",
       "    </tr>\n",
       "    <tr>\n",
       "      <th>8</th>\n",
       "      <td>Orsha</td>\n",
       "      <td>Belarus</td>\n",
       "      <td>9.48</td>\n",
       "      <td>no</td>\n",
       "      <td>no</td>\n",
       "      <td>NaN</td>\n",
       "      <td>NaN</td>\n",
       "      <td>4.93</td>\n",
       "    </tr>\n",
       "    <tr>\n",
       "      <th>9</th>\n",
       "      <td>Pinsk</td>\n",
       "      <td>Belarus</td>\n",
       "      <td>9.48</td>\n",
       "      <td>no</td>\n",
       "      <td>no</td>\n",
       "      <td>NaN</td>\n",
       "      <td>NaN</td>\n",
       "      <td>6.42</td>\n",
       "    </tr>\n",
       "  </tbody>\n",
       "</table>\n",
       "</div>"
      ],
      "text/plain": [
       "        city  country  population   EU coastline  latitude  longitude  \\\n",
       "0    Elbasan  Albania        2.90   no       yes     41.12      20.08   \n",
       "1    Andorra  Andorra        0.07   no        no     42.50       1.52   \n",
       "2  Innsbruck  Austria        8.57  yes        no       NaN      11.41   \n",
       "3       Graz  Austria        8.57  yes        no     47.08        NaN   \n",
       "4       Linz  Austria        8.57  yes        no     48.32      14.29   \n",
       "5   Salzburg  Austria        8.57  yes        no     47.81        NaN   \n",
       "6     Vienna  Austria        8.57  yes        no     48.20      16.37   \n",
       "7      Minsk  Belarus        9.48   no        no       NaN      27.57   \n",
       "8      Orsha  Belarus        9.48   no        no       NaN        NaN   \n",
       "9      Pinsk  Belarus        9.48   no        no       NaN        NaN   \n",
       "\n",
       "   temperature  \n",
       "0        15.18  \n",
       "1          NaN  \n",
       "2         4.54  \n",
       "3         6.91  \n",
       "4         6.79  \n",
       "5         4.62  \n",
       "6         7.86  \n",
       "7         5.28  \n",
       "8         4.93  \n",
       "9         6.42  "
      ]
     },
     "execution_count": 45,
     "metadata": {},
     "output_type": "execute_result"
    }
   ],
   "source": [
    "file = 'EuCitiesTemperatures.csv'\n",
    "df = pd.read_csv(file)\n",
    "df.head(10)\n",
    "#print(df.info())"
   ]
  },
  {
   "cell_type": "markdown",
   "metadata": {},
   "source": [
    "## 1.1.1: Fill in the missing latitude and longitude values"
   ]
  },
  {
   "cell_type": "code",
   "execution_count": 46,
   "metadata": {},
   "outputs": [
    {
     "data": {
      "text/html": [
       "<div>\n",
       "<style scoped>\n",
       "    .dataframe tbody tr th:only-of-type {\n",
       "        vertical-align: middle;\n",
       "    }\n",
       "\n",
       "    .dataframe tbody tr th {\n",
       "        vertical-align: top;\n",
       "    }\n",
       "\n",
       "    .dataframe thead th {\n",
       "        text-align: right;\n",
       "    }\n",
       "</style>\n",
       "<table border=\"1\" class=\"dataframe\">\n",
       "  <thead>\n",
       "    <tr style=\"text-align: right;\">\n",
       "      <th></th>\n",
       "      <th>city</th>\n",
       "      <th>country</th>\n",
       "      <th>population</th>\n",
       "      <th>EU</th>\n",
       "      <th>coastline</th>\n",
       "      <th>latitude</th>\n",
       "      <th>longitude</th>\n",
       "      <th>temperature</th>\n",
       "    </tr>\n",
       "  </thead>\n",
       "  <tbody>\n",
       "    <tr>\n",
       "      <th>0</th>\n",
       "      <td>Elbasan</td>\n",
       "      <td>Albania</td>\n",
       "      <td>2.90</td>\n",
       "      <td>no</td>\n",
       "      <td>yes</td>\n",
       "      <td>41.12</td>\n",
       "      <td>20.08</td>\n",
       "      <td>15.18</td>\n",
       "    </tr>\n",
       "    <tr>\n",
       "      <th>1</th>\n",
       "      <td>Andorra</td>\n",
       "      <td>Andorra</td>\n",
       "      <td>0.07</td>\n",
       "      <td>no</td>\n",
       "      <td>no</td>\n",
       "      <td>42.50</td>\n",
       "      <td>1.52</td>\n",
       "      <td>NaN</td>\n",
       "    </tr>\n",
       "    <tr>\n",
       "      <th>2</th>\n",
       "      <td>Innsbruck</td>\n",
       "      <td>Austria</td>\n",
       "      <td>8.57</td>\n",
       "      <td>yes</td>\n",
       "      <td>no</td>\n",
       "      <td>47.85</td>\n",
       "      <td>11.41</td>\n",
       "      <td>4.54</td>\n",
       "    </tr>\n",
       "    <tr>\n",
       "      <th>3</th>\n",
       "      <td>Graz</td>\n",
       "      <td>Austria</td>\n",
       "      <td>8.57</td>\n",
       "      <td>yes</td>\n",
       "      <td>no</td>\n",
       "      <td>47.08</td>\n",
       "      <td>14.02</td>\n",
       "      <td>6.91</td>\n",
       "    </tr>\n",
       "    <tr>\n",
       "      <th>4</th>\n",
       "      <td>Linz</td>\n",
       "      <td>Austria</td>\n",
       "      <td>8.57</td>\n",
       "      <td>yes</td>\n",
       "      <td>no</td>\n",
       "      <td>48.32</td>\n",
       "      <td>14.29</td>\n",
       "      <td>6.79</td>\n",
       "    </tr>\n",
       "    <tr>\n",
       "      <th>5</th>\n",
       "      <td>Salzburg</td>\n",
       "      <td>Austria</td>\n",
       "      <td>8.57</td>\n",
       "      <td>yes</td>\n",
       "      <td>no</td>\n",
       "      <td>47.81</td>\n",
       "      <td>14.02</td>\n",
       "      <td>4.62</td>\n",
       "    </tr>\n",
       "    <tr>\n",
       "      <th>6</th>\n",
       "      <td>Vienna</td>\n",
       "      <td>Austria</td>\n",
       "      <td>8.57</td>\n",
       "      <td>yes</td>\n",
       "      <td>no</td>\n",
       "      <td>48.20</td>\n",
       "      <td>16.37</td>\n",
       "      <td>7.86</td>\n",
       "    </tr>\n",
       "    <tr>\n",
       "      <th>7</th>\n",
       "      <td>Minsk</td>\n",
       "      <td>Belarus</td>\n",
       "      <td>9.48</td>\n",
       "      <td>no</td>\n",
       "      <td>no</td>\n",
       "      <td>52.61</td>\n",
       "      <td>27.57</td>\n",
       "      <td>5.28</td>\n",
       "    </tr>\n",
       "    <tr>\n",
       "      <th>8</th>\n",
       "      <td>Orsha</td>\n",
       "      <td>Belarus</td>\n",
       "      <td>9.48</td>\n",
       "      <td>no</td>\n",
       "      <td>no</td>\n",
       "      <td>52.61</td>\n",
       "      <td>25.63</td>\n",
       "      <td>4.93</td>\n",
       "    </tr>\n",
       "    <tr>\n",
       "      <th>9</th>\n",
       "      <td>Pinsk</td>\n",
       "      <td>Belarus</td>\n",
       "      <td>9.48</td>\n",
       "      <td>no</td>\n",
       "      <td>no</td>\n",
       "      <td>52.61</td>\n",
       "      <td>25.63</td>\n",
       "      <td>6.42</td>\n",
       "    </tr>\n",
       "  </tbody>\n",
       "</table>\n",
       "</div>"
      ],
      "text/plain": [
       "        city  country  population   EU coastline  latitude  longitude  \\\n",
       "0    Elbasan  Albania        2.90   no       yes     41.12      20.08   \n",
       "1    Andorra  Andorra        0.07   no        no     42.50       1.52   \n",
       "2  Innsbruck  Austria        8.57  yes        no     47.85      11.41   \n",
       "3       Graz  Austria        8.57  yes        no     47.08      14.02   \n",
       "4       Linz  Austria        8.57  yes        no     48.32      14.29   \n",
       "5   Salzburg  Austria        8.57  yes        no     47.81      14.02   \n",
       "6     Vienna  Austria        8.57  yes        no     48.20      16.37   \n",
       "7      Minsk  Belarus        9.48   no        no     52.61      27.57   \n",
       "8      Orsha  Belarus        9.48   no        no     52.61      25.63   \n",
       "9      Pinsk  Belarus        9.48   no        no     52.61      25.63   \n",
       "\n",
       "   temperature  \n",
       "0        15.18  \n",
       "1          NaN  \n",
       "2         4.54  \n",
       "3         6.91  \n",
       "4         6.79  \n",
       "5         4.62  \n",
       "6         7.86  \n",
       "7         5.28  \n",
       "8         4.93  \n",
       "9         6.42  "
      ]
     },
     "execution_count": 46,
     "metadata": {},
     "output_type": "execute_result"
    }
   ],
   "source": [
    "df['latitude'] = df.groupby(['country'])['latitude'].apply(lambda x: x.fillna(round(x.mean(),2)))\n",
    "df['longitude'] = df.groupby(['country'])['longitude'].apply(lambda x: x.fillna(round(x.mean(),2)))\n",
    "df.head(10)"
   ]
  },
  {
   "cell_type": "markdown",
   "metadata": {},
   "source": [
    "## 1.1.2: Find the subset of cities within a geographical band and find the countries with the maximum number of cities"
   ]
  },
  {
   "cell_type": "code",
   "execution_count": 47,
   "metadata": {},
   "outputs": [
    {
     "data": {
      "text/plain": [
       "Poland     9\n",
       "Romania    9\n",
       "Name: country, dtype: int64"
      ]
     },
     "execution_count": 47,
     "metadata": {},
     "output_type": "execute_result"
    }
   ],
   "source": [
    "subset_cities = df[(df['latitude'] >= 40) & (df['latitude'] <= 60) & (df['longitude'] >= 15) & (df['longitude'] <= 30)][['city', 'country']]\n",
    "subset_cities['city']\n",
    "#counts = subset_cities.groupby('country').count()\n",
    "#counts\n",
    "country_counts = subset_cities['country'].value_counts()\n",
    "\n",
    "country_counts[country_counts == country_counts.max()]"
   ]
  },
  {
   "cell_type": "markdown",
   "metadata": {},
   "source": [
    "## 1.1.3: Fill in the missing temperature values based on region types"
   ]
  },
  {
   "cell_type": "code",
   "execution_count": 48,
   "metadata": {},
   "outputs": [
    {
     "name": "stdout",
     "output_type": "stream",
     "text": [
      "               population   latitude  longitude  temperature\n",
      "EU  coastline                                               \n",
      "no  no           7.420000  48.286250  19.961250     7.481538\n",
      "    yes         55.614043  44.895532  30.177872     9.732000\n",
      "yes no           8.902857  48.159286  16.441429     7.538333\n",
      "    yes         41.780368  48.234779   9.897206    10.314494\n"
     ]
    }
   ],
   "source": [
    "regions = df.groupby(['EU', 'coastline']).mean()\n",
    "#df['temperature'] = df.groupby(['EU', 'coastline'])['temperature'].apply(lambda x: x.fillna(round(x.mean(),2)))\n",
    "print(regions)\n",
    "#df[df['temperature'].isnull()]"
   ]
  },
  {
   "cell_type": "code",
   "execution_count": 49,
   "metadata": {},
   "outputs": [
    {
     "data": {
      "text/html": [
       "<div>\n",
       "<style scoped>\n",
       "    .dataframe tbody tr th:only-of-type {\n",
       "        vertical-align: middle;\n",
       "    }\n",
       "\n",
       "    .dataframe tbody tr th {\n",
       "        vertical-align: top;\n",
       "    }\n",
       "\n",
       "    .dataframe thead th {\n",
       "        text-align: right;\n",
       "    }\n",
       "</style>\n",
       "<table border=\"1\" class=\"dataframe\">\n",
       "  <thead>\n",
       "    <tr style=\"text-align: right;\">\n",
       "      <th></th>\n",
       "      <th>city</th>\n",
       "      <th>country</th>\n",
       "      <th>population</th>\n",
       "      <th>EU</th>\n",
       "      <th>coastline</th>\n",
       "      <th>latitude</th>\n",
       "      <th>longitude</th>\n",
       "      <th>temperature</th>\n",
       "    </tr>\n",
       "  </thead>\n",
       "  <tbody>\n",
       "    <tr>\n",
       "      <th>0</th>\n",
       "      <td>Elbasan</td>\n",
       "      <td>Albania</td>\n",
       "      <td>2.90</td>\n",
       "      <td>no</td>\n",
       "      <td>yes</td>\n",
       "      <td>41.12</td>\n",
       "      <td>20.08</td>\n",
       "      <td>15.18</td>\n",
       "    </tr>\n",
       "    <tr>\n",
       "      <th>1</th>\n",
       "      <td>Andorra</td>\n",
       "      <td>Andorra</td>\n",
       "      <td>0.07</td>\n",
       "      <td>no</td>\n",
       "      <td>no</td>\n",
       "      <td>42.50</td>\n",
       "      <td>1.52</td>\n",
       "      <td>7.48</td>\n",
       "    </tr>\n",
       "    <tr>\n",
       "      <th>2</th>\n",
       "      <td>Innsbruck</td>\n",
       "      <td>Austria</td>\n",
       "      <td>8.57</td>\n",
       "      <td>yes</td>\n",
       "      <td>no</td>\n",
       "      <td>47.85</td>\n",
       "      <td>11.41</td>\n",
       "      <td>4.54</td>\n",
       "    </tr>\n",
       "    <tr>\n",
       "      <th>3</th>\n",
       "      <td>Graz</td>\n",
       "      <td>Austria</td>\n",
       "      <td>8.57</td>\n",
       "      <td>yes</td>\n",
       "      <td>no</td>\n",
       "      <td>47.08</td>\n",
       "      <td>14.02</td>\n",
       "      <td>6.91</td>\n",
       "    </tr>\n",
       "    <tr>\n",
       "      <th>4</th>\n",
       "      <td>Linz</td>\n",
       "      <td>Austria</td>\n",
       "      <td>8.57</td>\n",
       "      <td>yes</td>\n",
       "      <td>no</td>\n",
       "      <td>48.32</td>\n",
       "      <td>14.29</td>\n",
       "      <td>6.79</td>\n",
       "    </tr>\n",
       "  </tbody>\n",
       "</table>\n",
       "</div>"
      ],
      "text/plain": [
       "        city  country  population   EU coastline  latitude  longitude  \\\n",
       "0    Elbasan  Albania        2.90   no       yes     41.12      20.08   \n",
       "1    Andorra  Andorra        0.07   no        no     42.50       1.52   \n",
       "2  Innsbruck  Austria        8.57  yes        no     47.85      11.41   \n",
       "3       Graz  Austria        8.57  yes        no     47.08      14.02   \n",
       "4       Linz  Austria        8.57  yes        no     48.32      14.29   \n",
       "\n",
       "   temperature  \n",
       "0        15.18  \n",
       "1         7.48  \n",
       "2         4.54  \n",
       "3         6.91  \n",
       "4         6.79  "
      ]
     },
     "execution_count": 49,
     "metadata": {},
     "output_type": "execute_result"
    }
   ],
   "source": [
    "#print(df[df['temperature'].isnull()][:25])\n",
    "df['temperature'] = df.groupby(['EU', 'coastline'])['temperature'].apply(lambda x: x.fillna(round(x.mean(),2)))\n",
    "df[:5]"
   ]
  },
  {
   "cell_type": "code",
   "execution_count": 50,
   "metadata": {},
   "outputs": [
    {
     "data": {
      "text/html": [
       "<div>\n",
       "<style scoped>\n",
       "    .dataframe tbody tr th:only-of-type {\n",
       "        vertical-align: middle;\n",
       "    }\n",
       "\n",
       "    .dataframe tbody tr th {\n",
       "        vertical-align: top;\n",
       "    }\n",
       "\n",
       "    .dataframe thead th {\n",
       "        text-align: right;\n",
       "    }\n",
       "</style>\n",
       "<table border=\"1\" class=\"dataframe\">\n",
       "  <thead>\n",
       "    <tr style=\"text-align: right;\">\n",
       "      <th></th>\n",
       "      <th>EU</th>\n",
       "      <th>coastline</th>\n",
       "      <th>city</th>\n",
       "    </tr>\n",
       "  </thead>\n",
       "  <tbody>\n",
       "    <tr>\n",
       "      <th>0</th>\n",
       "      <td>no</td>\n",
       "      <td>no</td>\n",
       "      <td>16</td>\n",
       "    </tr>\n",
       "    <tr>\n",
       "      <th>1</th>\n",
       "      <td>no</td>\n",
       "      <td>yes</td>\n",
       "      <td>47</td>\n",
       "    </tr>\n",
       "    <tr>\n",
       "      <th>2</th>\n",
       "      <td>yes</td>\n",
       "      <td>no</td>\n",
       "      <td>14</td>\n",
       "    </tr>\n",
       "    <tr>\n",
       "      <th>3</th>\n",
       "      <td>yes</td>\n",
       "      <td>yes</td>\n",
       "      <td>136</td>\n",
       "    </tr>\n",
       "  </tbody>\n",
       "</table>\n",
       "</div>"
      ],
      "text/plain": [
       "    EU coastline  city\n",
       "0   no        no    16\n",
       "1   no       yes    47\n",
       "2  yes        no    14\n",
       "3  yes       yes   136"
      ]
     },
     "execution_count": 50,
     "metadata": {},
     "output_type": "execute_result"
    }
   ],
   "source": [
    "#regions_cities = df['city'].groupby(['EU', 'coastline']).count()\n",
    "regions_cities = df.groupby(['EU', 'coastline'])['city'].count()\n",
    "\n",
    "rcdf = pd.DataFrame(regions_cities)\n",
    "rcdf.reset_index()"
   ]
  },
  {
   "cell_type": "code",
   "execution_count": 51,
   "metadata": {},
   "outputs": [],
   "source": [
    "#rcdf.index\n",
    "#rcdf.unstack().plot(kind = 'bar')"
   ]
  },
  {
   "cell_type": "markdown",
   "metadata": {},
   "source": [
    "# Visualization (27 pts)"
   ]
  },
  {
   "cell_type": "markdown",
   "metadata": {},
   "source": [
    "## 1.2.1: Plot a bar chart for the number of cities belonging to each of the regions described in Preprocessing/Analysis #3 above."
   ]
  },
  {
   "cell_type": "code",
   "execution_count": 52,
   "metadata": {},
   "outputs": [
    {
     "data": {
      "text/plain": [
       "<matplotlib.legend.Legend at 0x7f9def3bf130>"
      ]
     },
     "execution_count": 52,
     "metadata": {},
     "output_type": "execute_result"
    },
    {
     "data": {
      "image/png": "[encoded data removed]",
      "text/plain": [
       "<Figure size 432x288 with 1 Axes>"
      ]
     },
     "metadata": {
      "needs_background": "light"
     },
     "output_type": "display_data"
    }
   ],
   "source": [
    "#Prob1.V.1\n",
    "#rcdf.plot(kind = 'bar', legend=False)\n",
    "axis = rcdf.plot(figsize=(6,4),kind='bar',rot=1)\n",
    "axis.set_title('No. of Cities in each Region',fontsize=14)\n",
    "axis.set_xlabel('EU, Coastline')\n",
    "axis.set_ylabel('No. of Cities')\n",
    "axis.legend('') "
   ]
  },
  {
   "cell_type": "markdown",
   "metadata": {},
   "source": [
    "## 1.2.2: Plot a scatter plot of latitude (y-axis) v/s longitude (x-axis) values to get a map-like visual of the cities under consideration. All the cities in the same country should have the same color."
   ]
  },
  {
   "cell_type": "code",
   "execution_count": 53,
   "metadata": {},
   "outputs": [
    {
     "data": {
      "text/plain": [
       "<AxesSubplot:xlabel='longitude', ylabel='latitude'>"
      ]
     },
     "execution_count": 53,
     "metadata": {},
     "output_type": "execute_result"
    },
    {
     "data": {
      "image/png": "[encoded data removed]",
      "text/plain": [
       "<Figure size 576x432 with 1 Axes>"
      ]
     },
     "metadata": {
      "needs_background": "light"
     },
     "output_type": "display_data"
    }
   ],
   "source": [
    "#Prob.1.V.2.\n",
    "colors = [list(df.country.unique()).index(i)+1 for i in df['country']]\n",
    "df.plot(figsize=(8,6), kind='scatter',x='longitude',y='latitude', alpha=.8, c = colors, cmap = plt.get_cmap('nipy_spectral'))\n"
   ]
  },
  {
   "cell_type": "markdown",
   "metadata": {},
   "source": [
    "## 1.2.3: The population column contains values unique to each country. So two cities of the same country will show the same population value. Plot a histogram of the number of countries belonging to each population group: split the population values into 5 bins (groups)."
   ]
  },
  {
   "cell_type": "code",
   "execution_count": 54,
   "metadata": {},
   "outputs": [
    {
     "data": {
      "text/plain": [
       "array([[<AxesSubplot:title={'center':'population'}>]], dtype=object)"
      ]
     },
     "execution_count": 54,
     "metadata": {},
     "output_type": "execute_result"
    },
    {
     "data": {
      "image/png": "[encoded data removed]",
      "text/plain": [
       "<Figure size 576x288 with 1 Axes>"
      ]
     },
     "metadata": {
      "needs_background": "light"
     },
     "output_type": "display_data"
    }
   ],
   "source": [
    "#Prob.1.V.3.\n",
    "df_pop = df[['country', 'population']].drop_duplicates('country').reset_index()[['country', 'population']]\n",
    "df_pop.hist(bins=5, figsize=(8,4), edgecolor = 'red')"
   ]
  },
  {
   "cell_type": "markdown",
   "metadata": {},
   "source": [
    "## 1.2.4: Plot subplots (2, 2), with proper titles, one each for the region types described in Preprocessing/Analysis #3 above."
   ]
  },
  {
   "cell_type": "code",
   "execution_count": 55,
   "metadata": {},
   "outputs": [],
   "source": [
    "#Prob.1.V.4.\n",
    "def set_color(temp):\n",
    "    if temp > 10:\n",
    "        col = 'red'\n",
    "    elif temp < 6:\n",
    "        col = 'blue'\n",
    "    else:\n",
    "        col = 'orange'\n",
    "    return col"
   ]
  },
  {
   "cell_type": "code",
   "execution_count": 56,
   "metadata": {},
   "outputs": [
    {
     "data": {
      "image/png": "[encoded data removed]",
      "text/plain": [
       "<Figure size 1080x1008 with 4 Axes>"
      ]
     },
     "metadata": {
      "needs_background": "light"
     },
     "output_type": "display_data"
    }
   ],
   "source": [
    "grouped = df.groupby(['EU', 'coastline'])\n",
    "fig, axes = plt.subplots(2,2, figsize=(15,14))\n",
    "for (region, group), ax in zip(grouped, axes.flatten()):\n",
    "    colors = [set_color(i) for i in list(group.temperature)]\n",
    "    group['cities'] = np.array([j for j in range(len(group['city']))])\n",
    "    group['colors'] = df['temperature'].apply(lambda x: set_color(x))\n",
    "    tt = 'EU= '+region[0] + '  ' + 'and'+ '  ' + 'Coastline= ' + region[1]\n",
    "    group.plot(x='cities', y='latitude', kind='scatter', ax=ax, color = colors, title = tt)"
   ]
  },
  {
   "cell_type": "code",
   "execution_count": null,
   "metadata": {},
   "outputs": [],
   "source": []
  }
 ],
 "metadata": {
  "kernelspec": {
   "display_name": "Python 3",
   "language": "python",
   "name": "python3"
  },
  "language_info": {
   "codemirror_mode": {
    "name": "ipython",
    "version": 3
   },
   "file_extension": ".py",
   "mimetype": "text/x-python",
   "name": "python",
   "nbconvert_exporter": "python",
   "pygments_lexer": "ipython3",
   "version": "3.8.8"
  }
 },
 "nbformat": 4,
 "nbformat_minor": 4
}
